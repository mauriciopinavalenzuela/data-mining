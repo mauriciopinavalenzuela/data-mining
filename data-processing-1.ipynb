{
  "nbformat": 4,
  "nbformat_minor": 0,
  "metadata": {
    "colab": {
      "provenance": []
    },
    "kernelspec": {
      "name": "python3",
      "display_name": "Python 3"
    },
    "language_info": {
      "name": "python"
    }
  },
  "cells": [
    {
      "cell_type": "code",
      "execution_count": null,
      "metadata": {
        "id": "kQWMx5mXRkwb"
      },
      "outputs": [],
      "source": [
        "# Módulo 2\n",
        "# Introducción a la programación y al preprocesamiento de datos\n",
        "# Parte 1"
      ]
    },
    {
      "cell_type": "code",
      "source": [
        "# 1. Mensaje Encriptado"
      ],
      "metadata": {
        "id": "NttPCbP2SN0M"
      },
      "execution_count": null,
      "outputs": []
    },
    {
      "cell_type": "code",
      "source": [
        "# Solución\n",
        "\n",
        "frag1 = \"1x97&C1x111MP0x177T0x0-1x101R&0x0-W1x1110x0-0x177LD&D\"\n",
        "frag2 = \"1x1010x0-S1x1010x0-RV0x0-1x101&T1x111&B0x0-1x101&C1x97LL0x0-\"\n",
        "frag3 = \"1x101D&0x105NT1x101LL0x0-0x105G1x101NT&0x1050x0-F&0x105T&0x0-\"\n",
        "frag4 = \"C0x0-1x1110x1770x0-LD0x0-&D0x0-1x101C1x1010x0-0x105V1x1010x0-&1x97&H\"\n",
        "frag5 = \"0x1770x0-M1x97N&0x105NT0x0-1x111&B0x0-1x101L0x0-0x1051x1010x0-V0x105\"\n",
        "frag6 = \"NG&T0x0-H1x97T0x0-&0x105T0x0-&W0x0-1x97S&0x0-H0x177M0x0-1x97N\"\n",
        "\n",
        "union_fragmentos = frag1 + frag2 + frag3 + frag4 + frag5 + frag6\n",
        "\n",
        "clave_cifrado = {\n",
        "    '1x97': 'a',\n",
        "    '1x101': 'e',\n",
        "    '0x105': 'i',\n",
        "    '1x111': 'o',\n",
        "    '0x177': 'u'\n",
        "}\n",
        "\n",
        "mensaje = union_fragmentos.replace('0x0-', '')\n",
        "\n",
        "for codigo, vocal in clave_cifrado.items():\n",
        "    mensaje = mensaje.replace(codigo, vocal)\n",
        "\n",
        "mensaje_final = mensaje.replace('&', ' ')\n",
        "\n",
        "mensaje_final = mensaje_final.lower().capitalize()\n",
        "\n",
        "print(mensaje_final)"
      ],
      "metadata": {
        "colab": {
          "base_uri": "https://localhost:8080/"
        },
        "id": "CgM-fKQFSR3R",
        "outputId": "9d08d153-865e-4917-92cd-3cbbc7539713"
      },
      "execution_count": null,
      "outputs": [
        {
          "output_type": "stream",
          "name": "stdout",
          "text": [
            "A computer would deserve to be called intelligent if it could deceive a human into believing that it was human\n"
          ]
        }
      ]
    },
    {
      "cell_type": "code",
      "source": [
        "# 2. Calcular estadísticos descriptivos"
      ],
      "metadata": {
        "id": "26ItSJ-8Timd"
      },
      "execution_count": null,
      "outputs": []
    },
    {
      "cell_type": "code",
      "source": [
        "# Solución\n",
        "\n",
        "X = (3, 5, 2, 7, 1, 3)\n",
        "\n",
        "n = len(X)\n",
        "\n",
        "suma_datos = sum(X)\n",
        "\n",
        "media_aritmetica = suma_datos / n\n",
        "\n",
        "suma_desviaciones_cuadradas = sum((xi - media_aritmetica) ** 2 for xi in X)\n",
        "\n",
        "varianza = suma_desviaciones_cuadradas / (n - 1)\n",
        "\n",
        "desviacion_estandar = varianza ** 0.5\n",
        "\n",
        "print(f\"Media Aritmética: {media_aritmetica}\")\n",
        "print(f\"Varianza: {varianza}\")\n",
        "print(f\"Desviación Estándar: {desviacion_estandar}\")"
      ],
      "metadata": {
        "colab": {
          "base_uri": "https://localhost:8080/"
        },
        "id": "CTr6HwD4Toxh",
        "outputId": "d9ad278a-6651-4f23-e884-d35e01187c16"
      },
      "execution_count": null,
      "outputs": [
        {
          "output_type": "stream",
          "name": "stdout",
          "text": [
            "Media Aritmética: 3.5\n",
            "Varianza: 4.7\n",
            "Desviación Estándar: 2.16794833886788\n"
          ]
        }
      ]
    },
    {
      "cell_type": "code",
      "source": [
        "# Fin"
      ],
      "metadata": {
        "id": "U9oQteywV6SN"
      },
      "execution_count": null,
      "outputs": []
    }
  ]
}