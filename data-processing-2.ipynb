{
  "nbformat": 4,
  "nbformat_minor": 0,
  "metadata": {
    "colab": {
      "provenance": []
    },
    "kernelspec": {
      "name": "python3",
      "display_name": "Python 3"
    },
    "language_info": {
      "name": "python"
    }
  },
  "cells": [
    {
      "cell_type": "code",
      "execution_count": null,
      "metadata": {
        "id": "vGItddd2ZKF6"
      },
      "outputs": [],
      "source": [
        "# Módulo 2\n",
        "# Introducción a la programación y al preprocesamiento de datos\n",
        "# Parte 2"
      ]
    },
    {
      "cell_type": "code",
      "source": [
        "# 1. Modificar la función área"
      ],
      "metadata": {
        "id": "ACrpISnDZTNt"
      },
      "execution_count": null,
      "outputs": []
    },
    {
      "cell_type": "code",
      "source": [
        "# Solución\n",
        "\n",
        "import math\n",
        "\n",
        "def area(tipo, base=None, altura=None, radio=None):\n",
        "    tipo = tipo.lower()\n",
        "\n",
        "    if tipo == \"rectangulo\":\n",
        "        if base is not None and altura is not None:\n",
        "            resultado = base * altura\n",
        "            print(f\"El área del rectángulo con base {base} y altura {altura} es {resultado:.2f}\")\n",
        "        else:\n",
        "            print(\"Error: Para un rectángulo, se necesitan los parámetros 'base' y 'altura'.\")\n",
        "\n",
        "    elif tipo == \"triangulo\":\n",
        "        if base is not None and altura is not None:\n",
        "            resultado = 0.5 * base * altura\n",
        "            print(f\"El área del triángulo con base {base} y altura {altura} es {resultado:.2f}\")\n",
        "        else:\n",
        "            print(\"Error: Para un triángulo, se necesitan los parámetros 'base' y 'altura'.\")\n",
        "\n",
        "    elif tipo == \"circulo\":\n",
        "        if radio is not None:\n",
        "            resultado = math.pi * (radio ** 2)\n",
        "            print(f\"El área del círculo con radio {radio} es {resultado:.2f}\")\n",
        "        else:\n",
        "            print(\"Error: Para un círculo, se necesita el parámetro 'radio'.\")\n",
        "\n",
        "    else:\n",
        "        print(f\"Error: Tipo de figura '{tipo}' no reconocido. Utiliza 'rectangulo', 'triangulo' o 'circulo'.\")\n",
        "\n",
        "area(tipo=\"triangulo\", base=22, altura=10)\n",
        "area(tipo=\"circulo\", radio=3)\n",
        "area(tipo=\"rectangulo\", base=2, altura=8)\n",
        "area(tipo=\"rombo\", base=2, altura=8)"
      ],
      "metadata": {
        "colab": {
          "base_uri": "https://localhost:8080/"
        },
        "id": "kFvL07lJdx_g",
        "outputId": "d2d0d335-44ec-4510-a5f9-6d9799f970bb"
      },
      "execution_count": null,
      "outputs": [
        {
          "output_type": "stream",
          "name": "stdout",
          "text": [
            "El área del triángulo con base 22 y altura 10 es 110.00\n",
            "El área del círculo con radio 3 es 28.27\n",
            "El área del rectángulo con base 2 y altura 8 es 16.00\n",
            "Error: Tipo de figura 'rombo' no reconocido. Utiliza 'rectangulo', 'triangulo' o 'circulo'.\n"
          ]
        }
      ]
    },
    {
      "cell_type": "code",
      "source": [
        "# 2. Debemos dar nombre a los ítems de la escala \"VAR\", la cual contiene 40 ítem (variables).\n",
        "# Cree una lista, con los 40 nombres de las variables de la escala de una manera más \"automatizada\" (no manual)"
      ],
      "metadata": {
        "id": "UI8tGs6pgwNV"
      },
      "execution_count": null,
      "outputs": []
    },
    {
      "cell_type": "code",
      "source": [
        "# Solución\n",
        "\n",
        "variables = []\n",
        "\n",
        "for i in range(1, 41):\n",
        "    nombre = f\"var_{i:2d}\"\n",
        "    variables.append(nombre)\n",
        "\n",
        "print(variables)"
      ],
      "metadata": {
        "colab": {
          "base_uri": "https://localhost:8080/"
        },
        "id": "FAHZ0dAOg90B",
        "outputId": "1fae7b6f-f222-4fcc-89f8-b5c06de9173b"
      },
      "execution_count": null,
      "outputs": [
        {
          "output_type": "stream",
          "name": "stdout",
          "text": [
            "['var_ 1', 'var_ 2', 'var_ 3', 'var_ 4', 'var_ 5', 'var_ 6', 'var_ 7', 'var_ 8', 'var_ 9', 'var_10', 'var_11', 'var_12', 'var_13', 'var_14', 'var_15', 'var_16', 'var_17', 'var_18', 'var_19', 'var_20', 'var_21', 'var_22', 'var_23', 'var_24', 'var_25', 'var_26', 'var_27', 'var_28', 'var_29', 'var_30', 'var_31', 'var_32', 'var_33', 'var_34', 'var_35', 'var_36', 'var_37', 'var_38', 'var_39', 'var_40']\n"
          ]
        }
      ]
    },
    {
      "cell_type": "code",
      "source": [
        "# 3. Con ayuda del módulo math y sus funciones log, sqrt y pow al cuadrado, calcular las funciones mencionadas sobre el \"dataset\"."
      ],
      "metadata": {
        "id": "-UCzO_FdhQ9E"
      },
      "execution_count": null,
      "outputs": []
    },
    {
      "cell_type": "code",
      "source": [
        "# Solución\n",
        "\n",
        "import math\n",
        "\n",
        "dataset = [\n",
        "    0.11261046, 0.16316216, 0.12998802, 0.36554960, 0.30303266, 0.41499920,\n",
        "    0.53760504, 0.18769798, 0.01886004, 0.12906637, 0.14374814, 0.16176217,\n",
        "    0.09472321, 0.40856728, 0.50283251, 0.75930989, 0.58570095, 0.30807794,\n",
        "    0.52969123, 0.19528002, 0.53437938, 0.44994715, 0.22545340, 0.31997634,\n",
        "    0.29648556, 0.36032036, 0.33630162, 0.23511463, 0.49745186, 0.26608576,\n",
        "    0.33492151, 0.28874676, 0.18705277, 0.24073738, 0.28217391, 0.31025715,\n",
        "    0.32817082, 0.38893064, 0.26846118, 0.38017469, 0.13513146, 0.23397707,\n",
        "    0.40124373, 0.37587971, 0.18494078, 0.11536383, 0.64988178, 0.18308925,\n",
        "    0.32067482, 0.64018372\n",
        "]\n",
        "\n",
        "funcion_log = [math.log(x) for x in dataset if x > 0]\n",
        "\n",
        "funcion_sqtrt = [math.sqrt(x) for x in dataset]\n",
        "\n",
        "funcion_pow = [math.pow(x, 2) for x in dataset]\n",
        "\n",
        "print(\"Logaritmo Natural (ln) de cada elemento:\")\n",
        "print(funcion_log)\n",
        "\n",
        "print(\"\\nRaíz Cuadrada de cada elemento:\")\n",
        "print(funcion_sqtrt)\n",
        "\n",
        "print(\"\\nCuadrado de cada elemento:\")\n",
        "print(funcion_pow)"
      ],
      "metadata": {
        "colab": {
          "base_uri": "https://localhost:8080/"
        },
        "id": "7QXTktzPhXfJ",
        "outputId": "ef41fdf2-e90a-4b9e-cd98-970eef82e3d0"
      },
      "execution_count": null,
      "outputs": [
        {
          "output_type": "stream",
          "name": "stdout",
          "text": [
            "Logaritmo Natural (ln) de cada elemento:\n",
            "[-2.1838206723867764, -1.8130107260815504, -2.040312986619135, -1.0063533044849646, -1.193914690502683, -0.8794786864641402, -0.6206311148171424, -1.6729210973016055, -3.9707098808883003, -2.047428510804185, -1.9396925385188233, -1.8216281088642479, -2.3567962190625646, -0.8950986781212567, -0.6874981464406055, -0.27534529769302774, -0.5349459438969356, -1.1774024760727544, -0.6354610271101557, -1.6333207504803955, -0.6266492428334755, -0.7986251475593548, -1.4896417932795476, -1.1395082234218765, -1.215756763248021, -1.0207617543594647, -1.0897468431199506, -1.4476820965334551, -0.6982564908845054, -1.3239366161470514, -1.0938590731167168, -1.242205237988308, -1.6763645094229997, -1.4240486492001794, -1.2652316959989756, -1.170353809232273, -1.1142210134805102, -0.9443542546035237, -1.3150489564916452, -0.967124421369901, -2.001507196579942, -1.4525321598789032, -0.9131862308282255, -0.978486106990397, -1.6877196132574572, -2.1596644055805307, -0.43096480955714456, -1.697781540112073, -1.1373276911123542, -0.44600008132297553]\n",
            "\n",
            "Raíz Cuadrada de cada elemento:\n",
            "[0.3355748202711282, 0.4039333608406218, 0.36053851389276015, 0.6046069797810806, 0.5504840233830588, 0.6442043154155365, 0.7332155481166504, 0.43324124919033274, 0.13733186083352983, 0.35925808272048665, 0.37914131929928185, 0.4021966807421464, 0.30777135994110955, 0.6391926783060019, 0.709106839622916, 0.8713838935853704, 0.7653110152088496, 0.5550476916446009, 0.7277988939260625, 0.4419049897885291, 0.7310125717113215, 0.6707810000290706, 0.47481933406296756, 0.5656645118796123, 0.5445048760112254, 0.6002669073004109, 0.5799151834535806, 0.4848862031446141, 0.7053026726165158, 0.5158350123828355, 0.5787240361346675, 0.5373516167278182, 0.432495976859901, 0.49064995669010303, 0.5312004423943941, 0.5570073159304103, 0.5728619554482562, 0.6236430389253135, 0.5181323962077646, 0.6165830763165657, 0.3676023122887015, 0.483711763346727, 0.6334380238034342, 0.6130902951441981, 0.4300474159903766, 0.3396525136076576, 0.8061524545642715, 0.4278892964307474, 0.5662815730712064, 0.8001148167606946]\n",
            "\n",
            "Cuadrado de cada elemento:\n",
            "[0.012681115701411599, 0.0266218904558656, 0.016896885343520403, 0.13362651006016, 0.09182879302667561, 0.17222433600064002, 0.2890191790334016, 0.0352305316960804, 0.00035570110880160004, 0.016658127864976904, 0.020663527753459598, 0.026166999643108903, 0.0089724865127041, 0.16692722228659837, 0.25284053311290006, 0.5765515090518122, 0.3430456028309025, 0.0949120171146436, 0.28057279913891287, 0.0381342862112004, 0.28556132176918436, 0.20245243779312252, 0.05082923557156, 0.10238485815979562, 0.08790368728851358, 0.1298307618305296, 0.11309877961462442, 0.0552788892400369, 0.24745835301745964, 0.0708016316747776, 0.11217241786068008, 0.0833746914104976, 0.0349887387646729, 0.0579544861292644, 0.07962211548468809, 0.09625949912612249, 0.10769608709947238, 0.1512670427308096, 0.07207140516699241, 0.1445327949165961, 0.018260511481731603, 0.0547452692857849, 0.16099653086431293, 0.1412855563896841, 0.0342030921070084, 0.0133088132722689, 0.4223463279759683, 0.0335216734655625, 0.10283234018203241, 0.4098351953530384]\n"
          ]
        }
      ]
    },
    {
      "cell_type": "code",
      "source": [
        "# Fin"
      ],
      "metadata": {
        "id": "PeCao_TKiJOB"
      },
      "execution_count": null,
      "outputs": []
    }
  ]
}